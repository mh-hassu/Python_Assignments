{
 "cells": [
  {
   "cell_type": "markdown",
   "id": "4182e91b-ffd1-4d75-992e-551740237d51",
   "metadata": {
    "jp-MarkdownHeadingCollapsed": true
   },
   "source": [
    "# List Assignments"
   ]
  },
  {
   "cell_type": "markdown",
   "id": "233b8575-c36e-4bcf-a049-45e29c142279",
   "metadata": {},
   "source": [
    "# Question 1\n",
    "Write a program that accepts a list from user and print the alternate element of list. \n"
   ]
  },
  {
   "cell_type": "code",
   "execution_count": 27,
   "id": "adbf6cec-c08c-491a-9fd7-ad9d661ef9e9",
   "metadata": {},
   "outputs": [
    {
     "name": "stdin",
     "output_type": "stream",
     "text": [
      "Enter elements separated by space:  1 2 3 4 5\n"
     ]
    },
    {
     "name": "stdout",
     "output_type": "stream",
     "text": [
      "Alternate elements are:\n",
      "['1', '3', '5']\n"
     ]
    }
   ],
   "source": [
    "lst = input(\"Enter elements separated by space: \")\n",
    "lst = lst.split()\n",
    "print(\"Alternate elements are:\")\n",
    "print(lst[::2]) "
   ]
  },
  {
   "cell_type": "markdown",
   "id": "d4e854b6-e1e8-4f42-adcc-dbe4ea769293",
   "metadata": {
    "jp-MarkdownHeadingCollapsed": true
   },
   "source": [
    "# Question 2\n",
    ". Write a program that accepts a list from user. Your program should reverse the content of list and\n",
    "display it. Do not use reverse() method. "
   ]
  },
  {
   "cell_type": "code",
   "execution_count": 20,
   "id": "c5297bdd-8317-4d20-91b0-5e0b26b4b8a9",
   "metadata": {},
   "outputs": [
    {
     "name": "stdin",
     "output_type": "stream",
     "text": [
      "Enter elements separated by space:  1 2 3 4 5 6\n"
     ]
    },
    {
     "name": "stdout",
     "output_type": "stream",
     "text": [
      "6 5 4 3 2 1\n"
     ]
    }
   ],
   "source": [
    "lst = input(\"Enter elements separated by space: \")\n",
    "lst = lst.split()\n",
    "# list ko reverse karna (without reverse())\n",
    "reversed_list = lst[::-1]\n",
    "print(reversed_list)"
   ]
  },
  {
   "cell_type": "markdown",
   "id": "3b0887fb-b2fc-4edc-ab35-f8ed5c494444",
   "metadata": {},
   "source": [
    "# Question 3\n",
    " Find and display the largest number of a list without using built-in function max(). Your program\n",
    "should ask the user to input values in list from keyboard. "
   ]
  },
  {
   "cell_type": "code",
   "execution_count": 29,
   "id": "bb7f29f3-0426-4342-8cbd-534b0bde9b68",
   "metadata": {},
   "outputs": [
    {
     "name": "stdin",
     "output_type": "stream",
     "text": [
      "Enter elements separated by space:  2 3 4 5 6 7\n"
     ]
    },
    {
     "name": "stdout",
     "output_type": "stream",
     "text": [
      "The largest number is: 7\n"
     ]
    }
   ],
   "source": [
    "lst = input(\"Enter elements separated by space: \")\n",
    "lst = lst.split()  \n",
    "largest = lst[0]\n",
    "for num in lst:\n",
    "    if num > largest:\n",
    "        largest = num\n",
    "print(\"The largest number is:\", largest)        "
   ]
  },
  {
   "cell_type": "markdown",
   "id": "f5bb348e-a152-4093-9664-55feb5fa9f7e",
   "metadata": {},
   "source": [
    "# Question 4\n",
    "Write a program that rotates the element of a list so that the element at the first index moves to the\n",
    "second index, the element in the second index moves to the third index, etc., and the element in the last\n",
    "index moves to the first index."
   ]
  },
  {
   "cell_type": "code",
   "execution_count": 30,
   "id": "0ddd0887-1734-4802-b1e3-57a778787aac",
   "metadata": {},
   "outputs": [
    {
     "name": "stdin",
     "output_type": "stream",
     "text": [
      "Enter elements separated by space:  1 2 3 4 5 6 7 8\n"
     ]
    },
    {
     "name": "stdout",
     "output_type": "stream",
     "text": [
      "['8', '1', '2', '3', '4', '5', '6', '7']\n"
     ]
    }
   ],
   "source": [
    "lst = input(\"Enter elements separated by space: \")\n",
    "lst = lst.split()\n",
    "last = lst[-1]              # last element nikal lo\n",
    "rotated = [last] + lst[:-1] # last ko front me rakho + baki elements\n",
    "print(rotated)"
   ]
  },
  {
   "cell_type": "markdown",
   "id": "7e50d104-c9f7-435e-a8cf-8e6e4349b84b",
   "metadata": {},
   "source": [
    "# Question 5\n",
    ". Write a program that input a string and ask user to delete a given word from a string. "
   ]
  },
  {
   "cell_type": "code",
   "execution_count": 32,
   "id": "2218de58-aa9a-43cd-85c2-e833bef069e5",
   "metadata": {},
   "outputs": [
    {
     "name": "stdin",
     "output_type": "stream",
     "text": [
      "Enter a string:  hello my i am hassaan\n",
      "Enter the word to delete:  my\n"
     ]
    },
    {
     "name": "stdout",
     "output_type": "stream",
     "text": [
      "String after deleting word: hello  i am hassaan\n"
     ]
    }
   ],
   "source": [
    "text = input(\"Enter a string: \")\n",
    "\n",
    "word = input(\"Enter the word to delete: \")\n",
    "\n",
    "new_text = text.replace(word, \"\")\n",
    "print(\"String after deleting word:\", new_text)"
   ]
  },
  {
   "cell_type": "markdown",
   "id": "e8febc43-276c-49ac-8089-1818708efe2f",
   "metadata": {},
   "source": [
    "# Question 6\n",
    " Write a program that reads a string from the user containing a date in the form mm/dd/yyyy. It\n",
    "should print the date in the form March 12, 2021. "
   ]
  },
  {
   "cell_type": "code",
   "execution_count": 35,
   "id": "d106d38c-d428-4167-98c3-4789f6bda25a",
   "metadata": {},
   "outputs": [
    {
     "name": "stdin",
     "output_type": "stream",
     "text": [
      "Enter a date (mm/dd/yyyy):  09/20/2007\n"
     ]
    },
    {
     "name": "stdout",
     "output_type": "stream",
     "text": [
      "September 20, 2007\n"
     ]
    }
   ],
   "source": [
    "months = [\n",
    "    \"January\" , \"February\", \"March\", \"April\", \"May\", \"June\",  # [0],[1],[2],...\n",
    "    \"July\", \"August\", \"September\", \"October\", \"November\", \"December\"\n",
    "]\n",
    "date = input(\"Enter a date (mm/dd/yyyy): \")\n",
    "mm, dd, yyyy = date.split(\"/\")\n",
    "\n",
    "month_name = months[int(mm) - 1]\n",
    "print(f\"{month_name} {int(dd)}, {yyyy}\")"
   ]
  },
  {
   "cell_type": "markdown",
   "id": "f7b063f6-6492-4eab-adc1-3d4dc97e7785",
   "metadata": {},
   "source": [
    "# Question 7\n",
    "Write a program with a function that accepts a string from keyboard and create a new string after\n",
    "converting character of each word capitalized. For instance, if the sentence is \"stop and smell the roses.\"\n",
    "the output should be \"Stop And Smell The Roses\" \n"
   ]
  },
  {
   "cell_type": "code",
   "execution_count": null,
   "id": "dd38c90e-c04f-42f7-bc17-7e8209412a90",
   "metadata": {},
   "outputs": [],
   "source": []
  },
  {
   "cell_type": "markdown",
   "id": "2b045669-be8f-4389-a79f-8dec4f9d09ec",
   "metadata": {},
   "source": [
    "# Question 8\n",
    "Find the sum of each row of matrix of size m x n. For example for the following matrix output will be\n",
    "like this :\n",
    "Sum of row 1 = 32\n",
    "Sum of row 2 = 31\n",
    "Sum of row 3 = 63"
   ]
  },
  {
   "cell_type": "code",
   "execution_count": 39,
   "id": "2294a630-f5ea-404c-b155-b9d4af3cf57b",
   "metadata": {},
   "outputs": [
    {
     "name": "stdin",
     "output_type": "stream",
     "text": [
      "Enter number of rows (m):  1 1\n"
     ]
    },
    {
     "ename": "ValueError",
     "evalue": "invalid literal for int() with base 10: '1 1'",
     "output_type": "error",
     "traceback": [
      "\u001b[1;31m---------------------------------------------------------------------------\u001b[0m",
      "\u001b[1;31mValueError\u001b[0m                                Traceback (most recent call last)",
      "Cell \u001b[1;32mIn[39], line 1\u001b[0m\n\u001b[1;32m----> 1\u001b[0m m \u001b[38;5;241m=\u001b[39m \u001b[38;5;28mint\u001b[39m(\u001b[38;5;28minput\u001b[39m(\u001b[38;5;124m\"\u001b[39m\u001b[38;5;124mEnter number of rows (m): \u001b[39m\u001b[38;5;124m\"\u001b[39m))\n\u001b[0;32m      2\u001b[0m n \u001b[38;5;241m=\u001b[39m \u001b[38;5;28mint\u001b[39m(\u001b[38;5;28minput\u001b[39m(\u001b[38;5;124m\"\u001b[39m\u001b[38;5;124mEnter number of columns (n): \u001b[39m\u001b[38;5;124m\"\u001b[39m))\n\u001b[0;32m      4\u001b[0m matrix \u001b[38;5;241m=\u001b[39m [\u001b[38;5;241m2\u001b[39m,\u001b[38;5;241m3\u001b[39m,\u001b[38;5;241m4\u001b[39m,]\n",
      "\u001b[1;31mValueError\u001b[0m: invalid literal for int() with base 10: '1 1'"
     ]
    }
   ],
   "source": [
    "m = int(input(\"Enter number of rows (m): \"))\n",
    "n = int(input(\"Enter number of columns (n): \"))\n",
    "\n",
    "matrix = []\n",
    "for temp in range(m):\n",
    "    row_sum = sum(matrix[temp])\n",
    "    print(\"Sum of row\", temp+1, \"=\", row_sum)"
   ]
  },
  {
   "cell_type": "markdown",
   "id": "68af1d06-af2c-415b-8916-27aaabc687be",
   "metadata": {},
   "source": [
    "# Question 9\n",
    " Write a program to add two matrices of size n x m"
   ]
  },
  {
   "cell_type": "code",
   "execution_count": null,
   "id": "db542585-30b1-475a-842b-41aafe2c41a1",
   "metadata": {},
   "outputs": [],
   "source": []
  },
  {
   "cell_type": "markdown",
   "id": "b1470ba8-958b-4d8b-92e4-0596ca224e1c",
   "metadata": {},
   "source": [
    "# Question 10 \n",
    "Write a program to multiply two matrices"
   ]
  },
  {
   "cell_type": "code",
   "execution_count": null,
   "id": "a5a20227-d1f1-467e-97ca-43d37de45010",
   "metadata": {},
   "outputs": [],
   "source": []
  }
 ],
 "metadata": {
  "kernelspec": {
   "display_name": "Python 3 (ipykernel)",
   "language": "python",
   "name": "python3"
  },
  "language_info": {
   "codemirror_mode": {
    "name": "ipython",
    "version": 3
   },
   "file_extension": ".py",
   "mimetype": "text/x-python",
   "name": "python",
   "nbconvert_exporter": "python",
   "pygments_lexer": "ipython3",
   "version": "3.13.5"
  }
 },
 "nbformat": 4,
 "nbformat_minor": 5
}
