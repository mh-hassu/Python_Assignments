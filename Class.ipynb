{
 "cells": [
  {
   "cell_type": "markdown",
   "id": "5220f82d-20b2-4245-89bb-31715fc24167",
   "metadata": {},
   "source": [
    "#### 1. Write a Python program to create a class representing a Circle. Include methods to calculate its area and perimeter."
   ]
  },
  {
   "cell_type": "code",
   "execution_count": 2,
   "id": "f5c26e66-851e-4b70-9873-4d52814dc7f9",
   "metadata": {},
   "outputs": [],
   "source": [
    "import math\n",
    "class Cirle:\n",
    "    def __init__(self):\n",
    "        pass\n",
    "    def Area(self):\n",
    "        radius = int(input(\"Enter the radius of circle : \"))\n",
    "        area = math.pi * (radius**2)\n",
    "        print(\"The Area of Circle is \",area)\n",
    "    def Perimeter(self):\n",
    "        radius = int(input(\"Enter the radius of circle : \"))\n",
    "        area = 2 * math.pi * radius\n",
    "        print(\"The Perimeter of Circle is \",area)"
   ]
  },
  {
   "cell_type": "code",
   "execution_count": 4,
   "id": "7b867ef8-53ff-46d8-b42c-6286b5dc8fd6",
   "metadata": {},
   "outputs": [
    {
     "name": "stdin",
     "output_type": "stream",
     "text": [
      "Enter the radius of circle :  2\n"
     ]
    },
    {
     "name": "stdout",
     "output_type": "stream",
     "text": [
      "The Area of Circle is  12.566370614359172\n"
     ]
    },
    {
     "name": "stdin",
     "output_type": "stream",
     "text": [
      "Enter the radius of circle :  3\n"
     ]
    },
    {
     "name": "stdout",
     "output_type": "stream",
     "text": [
      "The Perimeter of Circle is  18.84955592153876\n"
     ]
    }
   ],
   "source": [
    "cir_obj = Cirle()\n",
    "cir_obj.Area()\n",
    "cir_obj.Perimeter()"
   ]
  },
  {
   "cell_type": "markdown",
   "id": "1a5b54f0-0832-49e2-9c23-09bd2d19c9dd",
   "metadata": {},
   "source": [
    "#### 2. Write a Python program to create a person class. Include attributes like name, country and date of birth. Implement a method to determine the person's age."
   ]
  },
  {
   "cell_type": "code",
   "execution_count": 4,
   "id": "f8694942-d169-4175-abb4-9fe65af6c762",
   "metadata": {},
   "outputs": [
    {
     "name": "stdout",
     "output_type": "stream",
     "text": [
      "Name: Muhammad Hassaan\n",
      "Country: Pakistan\n",
      "Age: 18\n"
     ]
    }
   ],
   "source": [
    "from datetime import date\n",
    "\n",
    "class Person:\n",
    "    def __init__(self, name, country, db):\n",
    "        self.name = name\n",
    "        self.country = country\n",
    "        self.db = db  # format: YYYY, MM, DD\n",
    "\n",
    "    def age(self):\n",
    "        today = date.today()\n",
    "        age = today.year - self.db.year\n",
    "        return age\n",
    "\n",
    "p = Person(\"Muhammad Hassaan\", \"Pakistan\", date(2007,9,20))\n",
    "print(f\"Name: {p.name}\")\n",
    "print(f\"Country: {p.country}\")\n",
    "print(f\"Age: {p.age()}\")"
   ]
  },
  {
   "cell_type": "markdown",
   "id": "579bb1ff-5000-4be6-b8e5-9001d1e00e70",
   "metadata": {},
   "source": [
    "#### 3. Write a Python program to create a calculator class. Include methods for basic arithmetic operations."
   ]
  },
  {
   "cell_type": "code",
   "execution_count": 6,
   "id": "9e47276b-0ccb-4245-9509-3df2f34a349b",
   "metadata": {},
   "outputs": [
    {
     "name": "stdout",
     "output_type": "stream",
     "text": [
      "Addition: 35\n",
      "Subtraction: 20\n",
      "Multiplication: 50\n",
      "Division: calc.divide(10, 5)\n"
     ]
    }
   ],
   "source": [
    "class Calculator:\n",
    "    def add(self, a, b): return a + b\n",
    "\n",
    "    def subtract(self, a, b): return a - b\n",
    "\n",
    "    def multiply(self, a, b): return a * b\n",
    "\n",
    "    def divide(self, a, b):\n",
    "        if b == 0: return \"Error! Division by zero.\"\n",
    "        return a / b\n",
    "\n",
    "\n",
    "calc = Calculator()\n",
    "print(f\"Addition: {calc.add(30, 5)}\")\n",
    "print(f\"Subtraction: {calc.subtract(25, 5)}\")\n",
    "print(f\"Multiplication: {calc.multiply(10, 5)}\")\n",
    "print(f\"Division: calc.divide(10, 5)\")"
   ]
  }
 ],
 "metadata": {
  "kernelspec": {
   "display_name": "Python 3 (ipykernel)",
   "language": "python",
   "name": "python3"
  },
  "language_info": {
   "codemirror_mode": {
    "name": "ipython",
    "version": 3
   },
   "file_extension": ".py",
   "mimetype": "text/x-python",
   "name": "python",
   "nbconvert_exporter": "python",
   "pygments_lexer": "ipython3",
   "version": "3.13.5"
  }
 },
 "nbformat": 4,
 "nbformat_minor": 5
}
