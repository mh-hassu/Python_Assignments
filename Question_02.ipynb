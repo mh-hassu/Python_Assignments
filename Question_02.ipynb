{
 "cells": [
  {
   "cell_type": "code",
   "execution_count": 19,
   "id": "68f7d85c-1607-4a61-a1b5-3269c1da69c0",
   "metadata": {},
   "outputs": [],
   "source": [
    "class Vehicle:\n",
    "    def __init__(self,make,model,year):\n",
    "        self.make = make\n",
    "        self.model = model\n",
    "        self.year = year\n",
    "        \n",
    "class Car(Vehicle):\n",
    "    def __init__(self,make,model,year,doors):\n",
    "        super().__init__(make,model,year)\n",
    "        self.doors = doors\n",
    "    def start_engine(self):\n",
    "        print(\"The Car  will self start \")\n",
    "        \n",
    "    def accelerate(self):\n",
    "        print(\"Total speed of Car is 180 to 220 km/hr\")\n",
    "               \n",
    "class Truck(Vehicle):\n",
    "    def __init__(self,make,model,year,capacity):\n",
    "        super().__init__(make,model,year)\n",
    "        self.capacity = capacity\n",
    "    def start_engine(self):\n",
    "        print(\"The Truck  will self start \")\n",
    "        \n",
    "    def accelerate(self):\n",
    "        print(\"Total speed of Truck is 80 km/hr\")    \n",
    "        \n",
    "class Motorcycle(Vehicle):\n",
    "    def __init__(self,make,model,year,drive):\n",
    "        super().__init__(make,model,year)\n",
    "        self.drive = drive\n",
    "    def start_engine(self):\n",
    "        print(\"The Motorcycle  will kick start \")\n",
    "        \n",
    "    def accelerate(self):\n",
    "        print(\"Total speed of Motorcycle is 125 km/hr\")    "
   ]
  },
  {
   "cell_type": "code",
   "execution_count": 20,
   "id": "e7dfea90-0658-496d-bb64-2125655969c2",
   "metadata": {},
   "outputs": [
    {
     "name": "stdout",
     "output_type": "stream",
     "text": [
      "Carolla\n",
      "Honda\n",
      "2024\n"
     ]
    }
   ],
   "source": [
    "veh_obj = Vehicle(\"Carolla\",\"Honda\",\"2024\")\n",
    "print(veh_obj.make)\n",
    "print(veh_obj.model)\n",
    "print(veh_obj.year)"
   ]
  },
  {
   "cell_type": "code",
   "execution_count": 21,
   "id": "cbb9fa00-a9dd-49b8-9a38-645c79f35bff",
   "metadata": {},
   "outputs": [
    {
     "name": "stdout",
     "output_type": "stream",
     "text": [
      "CD 70\n",
      "Honda\n",
      "2025\n",
      "The Car  will self start \n",
      "Total speed of Car is 180 to 220 km/hr\n"
     ]
    }
   ],
   "source": [
    "car_obj = Car(\"CD 70\",\"Honda\",\"2025\",\"Four\")\n",
    "print(car_obj.make)\n",
    "print(car_obj.model)\n",
    "print(car_obj.year)\n",
    "car_obj.start_engine()\n",
    "car_obj.accelerate()"
   ]
  },
  {
   "cell_type": "code",
   "execution_count": 22,
   "id": "f84c4e8f-17d5-408a-b935-34677f447f43",
   "metadata": {},
   "outputs": [
    {
     "name": "stdout",
     "output_type": "stream",
     "text": [
      "CD 70\n",
      "Honda\n",
      "2025\n",
      "The Motorcycle  will kick start \n",
      "Total speed of Motorcycle is 125 km/hr\n"
     ]
    }
   ],
   "source": [
    "motor_obj = Motorcycle(\"CD 70\",\"Honda\",\"2025\",\"Four\")\n",
    "print(motor_obj.make)\n",
    "print(motor_obj.model) \n",
    "print(motor_obj.year)\n",
    "motor_obj.start_engine()\n",
    "motor_obj.accelerate()"
   ]
  },
  {
   "cell_type": "code",
   "execution_count": 38,
   "id": "17dbdb1a-ed7c-491a-b7ac-aae43bf1ae72",
   "metadata": {},
   "outputs": [],
   "source": [
    "import math\n",
    "class Cirle:\n",
    "    def __init__(self):\n",
    "        pass\n",
    "    def Area(self):\n",
    "        radius = int(input(\"Enter the radius of circle : \"))\n",
    "        area = math.pi * (radius**2)\n",
    "        print(\"The Area of Circle is \",area)\n",
    "    def Perimeter(self):\n",
    "        radius = int(input(\"Enter the radius of circle : \"))\n",
    "        area = 2 * math.pi * radius\n",
    "        print(\"The Perimeter of Circle is \",area)"
   ]
  },
  {
   "cell_type": "code",
   "execution_count": 39,
   "id": "355cfa3b-07f2-46bb-9d8f-c5aa57d02cfa",
   "metadata": {},
   "outputs": [
    {
     "name": "stdin",
     "output_type": "stream",
     "text": [
      "Enter the radius of circle :  2\n"
     ]
    },
    {
     "name": "stdout",
     "output_type": "stream",
     "text": [
      "The Area of Circle is  12.566370614359172\n"
     ]
    },
    {
     "name": "stdin",
     "output_type": "stream",
     "text": [
      "Enter the radius of circle :  2\n"
     ]
    },
    {
     "name": "stdout",
     "output_type": "stream",
     "text": [
      "The Perimeter of Circle is  12.566370614359172\n"
     ]
    }
   ],
   "source": [
    "cir_obj = Cirle()\n",
    "cir_obj.Area()\n",
    "cir_obj.Perimeter()"
   ]
  },
  {
   "cell_type": "code",
   "execution_count": null,
   "id": "4e4ab640-df98-40a5-a7bb-cbb080af72c5",
   "metadata": {},
   "outputs": [],
   "source": []
  }
 ],
 "metadata": {
  "kernelspec": {
   "display_name": "Python 3 (ipykernel)",
   "language": "python",
   "name": "python3"
  },
  "language_info": {
   "codemirror_mode": {
    "name": "ipython",
    "version": 3
   },
   "file_extension": ".py",
   "mimetype": "text/x-python",
   "name": "python",
   "nbconvert_exporter": "python",
   "pygments_lexer": "ipython3",
   "version": "3.13.5"
  }
 },
 "nbformat": 4,
 "nbformat_minor": 5
}
