{
 "cells": [
  {
   "cell_type": "markdown",
   "id": "e3063375-4779-4803-af44-41cc398c9ace",
   "metadata": {},
   "source": [
    "# Part -1 Python Basics (Variables)"
   ]
  },
  {
   "cell_type": "markdown",
   "id": "1a677596-4ab0-4a8f-9364-2043a15ea571",
   "metadata": {
    "jp-MarkdownHeadingCollapsed": true
   },
   "source": [
    "# Question 1\n",
    "Print Your Name with your Father name and Date of birth using suitable escape sequence charactor"
   ]
  },
  {
   "cell_type": "code",
   "execution_count": 80,
   "id": "e93adb04-7f55-4f56-aa4d-502bba339c10",
   "metadata": {},
   "outputs": [
    {
     "name": "stdout",
     "output_type": "stream",
     "text": [
      "Name: Muhammad Hassaan\n",
      "Father Name: Mushtaq Ahmed\n",
      "DOB: 20-08-2007\n"
     ]
    }
   ],
   "source": [
    "print(\"Name: Muhammad Hassaan\")\n",
    "print(\"Father Name: Mushtaq Ahmed\")\n",
    "print(\"DOB: 20-08-2007\")\n"
   ]
  },
  {
   "cell_type": "markdown",
   "id": "d09be669-69bb-418e-973d-9b042140aa2d",
   "metadata": {
    "jp-MarkdownHeadingCollapsed": true
   },
   "source": [
    "# Question 2\n",
    "Write your small bio using variables and print it using print function"
   ]
  },
  {
   "cell_type": "code",
   "execution_count": 82,
   "id": "0c659bd1-5f54-41b6-99af-fedf14947c8c",
   "metadata": {},
   "outputs": [
    {
     "name": "stdout",
     "output_type": "stream",
     "text": [
      "I have completed my intermediate from Bahria College NORE-1, and Currently  I am enrolled in Saylani course of Cloud Data Engineering Batch-3\n"
     ]
    }
   ],
   "source": [
    "my_bio = \"I have completed my intermediate from Bahria College NORE-1, and Currently  I am enrolled in Saylani course of Cloud Data Engineering Batch-3\"\n",
    "print(my_bio)"
   ]
  },
  {
   "cell_type": "markdown",
   "id": "8d4fa95c-f5b5-4c8f-8686-5f315a39fd86",
   "metadata": {
    "jp-MarkdownHeadingCollapsed": true
   },
   "source": [
    "# Question 3\n",
    "Write a program in which use all the operators we can use in Python"
   ]
  },
  {
   "cell_type": "code",
   "execution_count": 86,
   "id": "a24b8afd-7346-40a6-badb-b3bba40ca7ad",
   "metadata": {},
   "outputs": [
    {
     "name": "stdout",
     "output_type": "stream",
     "text": [
      "15\n",
      "2\n",
      "22.5\n",
      "12\n",
      "22\n",
      "27\n",
      "1\n",
      "True\n",
      "True\n",
      "True\n",
      "False\n"
     ]
    }
   ],
   "source": [
    "print(10  + 5) #this is Addition operation \n",
    "print(15 - 13) #this is Subtraction operation \n",
    "print(45  /  2)  #this is division Operation \n",
    "print(2 * 6)   #this is multiplication Operation \n",
    "print(45 // 2) #this is for division and answer get in  round off  Operation\n",
    "print(3 ** 3) #this is exponential Operation\n",
    "print(40 % 3 ) #this is for remainder ,Modolus Operation \n",
    "print (3 < 21) # this is less than symbal\n",
    "print (35 > 17) # this is greater than symbal\n",
    "print (3 <= 3) # this is less than equal to symbal\n",
    "print (35 >= 45) # this is greater than equal to symbal"
   ]
  },
  {
   "cell_type": "markdown",
   "id": "40372d98-3a0a-42f2-a4c0-c2aa3c9d1b93",
   "metadata": {
    "jp-MarkdownHeadingCollapsed": true
   },
   "source": [
    "# Question 4\n",
    "Completes the following steps of small task:\n",
    "Mention Marks of English , Islamiat and Maths out of 100 in 3 different variables\n",
    "Mention Variable of Total Marks and assign 300 to it\n",
    "Calculate Percentage"
   ]
  },
  {
   "cell_type": "code",
   "execution_count": 91,
   "id": "37734460-0c03-4b42-b768-fcceaa15c382",
   "metadata": {},
   "outputs": [
    {
     "name": "stdin",
     "output_type": "stream",
     "text": [
      "Enter the marks of math:  75\n",
      "Enter the marks of english:  57\n",
      "Enter the marks of islamiat:  91\n"
     ]
    },
    {
     "name": "stdout",
     "output_type": "stream",
     "text": [
      "74.33333333333333 this is your Percentage of three subjects\n"
     ]
    }
   ],
   "source": [
    "math = int(input(\"Enter the marks of math: \"))\n",
    "english = int(input(\"Enter the marks of english: \"))\n",
    "islamiat = int(input(\"Enter the marks of islamiat: \"))\n",
    "obtain_marks = math + english + islamiat\n",
    "total_marks = 300\n",
    "Percentage = (obtain_marks * 100) / total_marks\n",
    "print(Percentage,\"this is your Percentage of three subjects\")"
   ]
  },
  {
   "cell_type": "markdown",
   "id": "466db656-174d-424c-b28b-406d1d3a4aee",
   "metadata": {},
   "source": [
    "# Part -2 Python Basics (Conditional Statements)"
   ]
  },
  {
   "cell_type": "markdown",
   "id": "fb02e05e-6000-42ce-aca8-24a653816b98",
   "metadata": {
    "jp-MarkdownHeadingCollapsed": true
   },
   "source": [
    "# Question 1\n",
    "A company decided to give bonus of 5% to employee if his/her year of service is more than 5 years. Ask user for their salary and year of service and print the net bonus amount."
   ]
  },
  {
   "cell_type": "code",
   "execution_count": 1,
   "id": "5962b283-aa34-4758-9807-82d3a807a388",
   "metadata": {},
   "outputs": [
    {
     "name": "stdin",
     "output_type": "stream",
     "text": [
      "How many years is done in this company:  6\n"
     ]
    },
    {
     "name": "stdout",
     "output_type": "stream",
     "text": [
      "You are eligible for bonus\n"
     ]
    },
    {
     "name": "stdin",
     "output_type": "stream",
     "text": [
      "Enter your salary:  25000\n"
     ]
    },
    {
     "name": "stdout",
     "output_type": "stream",
     "text": [
      "You get bonus 1250.0\n"
     ]
    }
   ],
   "source": [
    "srvice = float(input(\"How many years is done in this company: \"))\n",
    "if srvice > 5 :\n",
    "    print(\"You are eligible for bonus\")\n",
    "    salry = float(input(\"Enter your salary: \"))\n",
    "    print(f\"You get bonus {salry * 0.05}\")\n",
    "else:\n",
    "    print(\"You are not eligible for bonus\")"
   ]
  },
  {
   "cell_type": "markdown",
   "id": "31c6aeb8-a73d-4fa6-b163-6cd8030a9813",
   "metadata": {
    "jp-MarkdownHeadingCollapsed": true
   },
   "source": [
    "# Question 2\n",
    "A shop will give discount of 10% if the cost of purchased quantity is more than 1000. Ask user for quantity Suppose, one unit will cost 100. Judge and print total cost for user."
   ]
  },
  {
   "cell_type": "code",
   "execution_count": 3,
   "id": "465efb6a-45a3-4c70-bcb4-beb3b47e7ee9",
   "metadata": {},
   "outputs": [
    {
     "name": "stdout",
     "output_type": "stream",
     "text": [
      "laptop price equal to 100 dollar\n"
     ]
    },
    {
     "name": "stdin",
     "output_type": "stream",
     "text": [
      "How many pieces you want:  15\n"
     ]
    },
    {
     "name": "stdout",
     "output_type": "stream",
     "text": [
      "You will get 10% discount\n",
      "1350.0 this is the amount you have to pay.\n"
     ]
    }
   ],
   "source": [
    "print(\"laptop price equal to 100 dollar\")\n",
    "quantity = int(input(\"How many pieces you want: \"))\n",
    "laptop_price = 100\n",
    "unit_price = quantity * laptop_price\n",
    "if unit_price >= 1000:\n",
    "    print(\"You will get 10% discount\")\n",
    "    discount_price = unit_price * 0.10 \n",
    "    print(f\"{unit_price - discount_price} this is the amount you have to pay.\")\n",
    "else:\n",
    "    print(\"Pay your Bill\")"
   ]
  },
  {
   "cell_type": "markdown",
   "id": "bb0bc1ea-5f0c-4bd9-a416-fe8e3c92e52c",
   "metadata": {
    "jp-MarkdownHeadingCollapsed": true
   },
   "source": [
    "# Question 3\n",
    "Take values of length and breadth of a rectangle from user and print if it is square or rectangle."
   ]
  },
  {
   "cell_type": "code",
   "execution_count": 4,
   "id": "e448abc1-6faa-487d-88fc-09625962d3bd",
   "metadata": {},
   "outputs": [
    {
     "name": "stdin",
     "output_type": "stream",
     "text": [
      "Enter the Length:  15\n",
      "Enter the Breadth:  15\n"
     ]
    },
    {
     "name": "stdout",
     "output_type": "stream",
     "text": [
      "This is a square \n"
     ]
    }
   ],
   "source": [
    "length = float(input(\"Enter the Length: \"))\n",
    "breadth = float(input(\"Enter the Breadth: \"))\n",
    "if length == breadth:\n",
    "    print(\"This is a square \")\n",
    "else: \n",
    "    print(\"this is rectangle\")"
   ]
  },
  {
   "cell_type": "markdown",
   "id": "a6338810-4ac5-49e7-9e36-0578eb67f035",
   "metadata": {
    "jp-MarkdownHeadingCollapsed": true
   },
   "source": [
    "# Question 4\n",
    "Write a program to display the last digit of a number."
   ]
  },
  {
   "cell_type": "code",
   "execution_count": 5,
   "id": "c8c89b36-ff9b-427f-ab65-38c275eccbfb",
   "metadata": {},
   "outputs": [
    {
     "name": "stdin",
     "output_type": "stream",
     "text": [
      "Enter any number:  234567654\n"
     ]
    },
    {
     "name": "stdout",
     "output_type": "stream",
     "text": [
      "4\n"
     ]
    }
   ],
   "source": [
    "num = int(input(\"Enter any number: \"))\n",
    "last_digit = num % 10\n",
    "print(last_digit)"
   ]
  },
  {
   "cell_type": "markdown",
   "id": "adb78e59-5c4a-4f32-bc9f-cbc82ba2cd7f",
   "metadata": {
    "jp-MarkdownHeadingCollapsed": true
   },
   "source": [
    "# Question 5\n",
    "Write a program to check whether a number entered by user is even or odd."
   ]
  },
  {
   "cell_type": "code",
   "execution_count": 8,
   "id": "04faca50-5b98-48b8-974d-e4774a2a106f",
   "metadata": {},
   "outputs": [
    {
     "name": "stdin",
     "output_type": "stream",
     "text": [
      "Enter number to check: 35\n"
     ]
    },
    {
     "name": "stdout",
     "output_type": "stream",
     "text": [
      "35 is odd\n"
     ]
    }
   ],
   "source": [
    "num = int(input(\"Enter number to check:\"))\n",
    "\n",
    "if num %2 == 0:\n",
    "    print(f\"{num} is even\")\n",
    "else:\n",
    "    print(f\"{num} is odd\")"
   ]
  },
  {
   "cell_type": "markdown",
   "id": "de87865e-ecaa-4d1c-87cf-7329fff1dbe4",
   "metadata": {
    "jp-MarkdownHeadingCollapsed": true
   },
   "source": [
    "# Question 6\n",
    "Write a program to check whether a number is divisible by 7 or not. Show Answer"
   ]
  },
  {
   "cell_type": "code",
   "execution_count": 13,
   "id": "fe755286-e91d-4503-8fe7-5d0070db52c3",
   "metadata": {},
   "outputs": [
    {
     "name": "stdin",
     "output_type": "stream",
     "text": [
      "Enter your number: 105\n"
     ]
    },
    {
     "name": "stdout",
     "output_type": "stream",
     "text": [
      "105 is divisible by 7\n"
     ]
    }
   ],
   "source": [
    "x = int(input(\"Enter your number:\"))\n",
    "if x % 7== 0 : \n",
    "    print(x,\"is divisible by 7\")\n",
    "    \n",
    "else:\n",
    "    print(x,\" is not divisible by 7\")"
   ]
  },
  {
   "cell_type": "markdown",
   "id": "d767c0f4-ae85-456e-8bec-b27c42d6d4c4",
   "metadata": {
    "jp-MarkdownHeadingCollapsed": true
   },
   "source": [
    "# Question 7\n",
    "Write a program to check whether a person is eligible for voting or not. (accept age from user) if age is greater than 17 eligible otherwise not eligible"
   ]
  },
  {
   "cell_type": "code",
   "execution_count": 15,
   "id": "7df68e29-3524-44c7-b186-8f099577ca2e",
   "metadata": {},
   "outputs": [
    {
     "name": "stdin",
     "output_type": "stream",
     "text": [
      "Enter Your Age:  18\n"
     ]
    },
    {
     "name": "stdout",
     "output_type": "stream",
     "text": [
      "You are eligible for vote\n"
     ]
    }
   ],
   "source": [
    "age = int(input(\"Enter Your Age: \"))\n",
    "if age > 17 : \n",
    "    print(\"You are eligible for vote\")\n",
    "else: \n",
    "    print(\"You are not eligible for vote\")"
   ]
  },
  {
   "cell_type": "markdown",
   "id": "86c657fa-ded5-4790-bdba-ee10395394ec",
   "metadata": {
    "jp-MarkdownHeadingCollapsed": true
   },
   "source": [
    "# Question 8\n",
    "Write a program to display \"Hello\" if a number entered by user is a multiple of five , otherwise print \"Bye\"."
   ]
  },
  {
   "cell_type": "code",
   "execution_count": 21,
   "id": "897ee50b-a0d4-4877-af5e-1d4047ffff9a",
   "metadata": {},
   "outputs": [
    {
     "name": "stdin",
     "output_type": "stream",
     "text": [
      "Ente the number:  15\n"
     ]
    },
    {
     "name": "stdout",
     "output_type": "stream",
     "text": [
      "Hello\n"
     ]
    }
   ],
   "source": [
    "num = int (input (\"Ente the number: \"))\n",
    "if num % 5 == 0 :\n",
    "    print(\"Hello\")\n",
    "else:\n",
    "    print(\"Bye\")"
   ]
  },
  {
   "cell_type": "markdown",
   "id": "157fb200-b8cc-4345-9ec7-40999ea13c2d",
   "metadata": {
    "jp-MarkdownHeadingCollapsed": true
   },
   "source": [
    "# Question 9\n",
    "Take two int values from user and print greatest among them."
   ]
  },
  {
   "cell_type": "code",
   "execution_count": 26,
   "id": "fba0b0d6-3f50-4524-9da4-f48bbdc5b39c",
   "metadata": {},
   "outputs": [
    {
     "name": "stdin",
     "output_type": "stream",
     "text": [
      "Enter the first number:  65.06\n",
      "Enter the second number:  10\n"
     ]
    },
    {
     "name": "stdout",
     "output_type": "stream",
     "text": [
      "65.06 is greater than 10.0\n"
     ]
    }
   ],
   "source": [
    "num1 = float(input(\"Enter the first number: \"))\n",
    "num2 = float(input(\"Enter the second number: \"))\n",
    "if num1 < num2:\n",
    "    print(f\"{num2} is greater than {num1}\")\n",
    "else:\n",
    "     print(f\"{num1} is greater than {num2}\")"
   ]
  },
  {
   "cell_type": "markdown",
   "id": "7e97bbea-e9da-404c-a8ad-f5aba2787a0a",
   "metadata": {
    "jp-MarkdownHeadingCollapsed": true
   },
   "source": [
    "# Question 10\n",
    "A school has following rules for grading system:\n",
    "a. Below 25 - F\n",
    "\n",
    "b. 25 to 45 - E\n",
    "\n",
    "c. 45 to 50 - D\n",
    "\n",
    "d. 50 to 60 - C\n",
    "\n",
    "e. 60 to 80 - B\n",
    "\n",
    "f. Above 80 - A\n",
    "\n",
    "Ask user to enter marks and print the corresponding grade."
   ]
  },
  {
   "cell_type": "code",
   "execution_count": 32,
   "id": "9913d006-793b-4acf-a4be-435e9f68a5dd",
   "metadata": {},
   "outputs": [
    {
     "name": "stdin",
     "output_type": "stream",
     "text": [
      "Enter Your marks: 75\n"
     ]
    },
    {
     "name": "stdout",
     "output_type": "stream",
     "text": [
      "Your Marks are 75 and Your Grade is B\n"
     ]
    }
   ],
   "source": [
    "marks = int(input(\"Enter Your marks:\"))\n",
    "if marks >= 0   and  marks <= 25 :\n",
    "  print(f\"Your Marks are {marks} and Your Grade is F \")\n",
    "elif marks  >= 25  and marks <= 45 :\n",
    "  print (f\"Your Marks are {marks} and Your Grade is E\")\n",
    "elif marks  >= 45  and marks <= 50 :\n",
    "  print(f\"Your Marks are {marks} and Your Grade is D\")\n",
    "elif marks >= 50  and marks <=60 :\n",
    "  print(f\"Your Marks are {marks} and Your Grade is C\")\n",
    "elif marks >= 60 and marks <=80 : \n",
    "  print(f\"Your Marks are {marks} and Your Grade is B\")\n",
    "elif marks >= 80 and marks <= 100 :\n",
    "    print(f\"Your Marks are {marks} and Your Grade is A\")\n",
    "else: \n",
    " print(\"Invalid Input\")"
   ]
  },
  {
   "cell_type": "markdown",
   "id": "dd9b1529-ff58-4416-aabb-9562af153f9c",
   "metadata": {
    "jp-MarkdownHeadingCollapsed": true
   },
   "source": [
    "# Question 11\n",
    "A student will not be allowed to sit in exam if his/her attendence is less than 75%.\n",
    "\n",
    "Take following input from user\n",
    "\n",
    "Number of classes held\n",
    "\n",
    "Number of classes attended.\n",
    "\n",
    "And print\n",
    "\n",
    "percentage of class attended\n",
    "\n",
    "Is student is allowed to sit in exam or not."
   ]
  },
  {
   "cell_type": "code",
   "execution_count": 40,
   "id": "047f4447-80bf-4b60-a410-bf856eb26d88",
   "metadata": {},
   "outputs": [
    {
     "name": "stdin",
     "output_type": "stream",
     "text": [
      "Enter in how many classes you have attended:  24\n"
     ]
    },
    {
     "name": "stdout",
     "output_type": "stream",
     "text": [
      "Your attendance is 75.0%  \n",
      "You are allowed to sit in exam\n"
     ]
    }
   ],
   "source": [
    "classes = 32\n",
    "is_present = int(input(\"Enter in how many classes you have attended: \"))\n",
    "attendance_percentage = (is_present / classes) * 100\n",
    "\n",
    "print(f\"Your attendance is {attendance_percentage}%  \")\n",
    "if attendance_percentage >= 75 :\n",
    "    print(\"You are allowed to sit in exam\")\n",
    "else:\n",
    "    print(\"You are not allowed to sit in exam\")"
   ]
  },
  {
   "cell_type": "markdown",
   "id": "08302dee-719d-4f1b-99ee-82505e581ede",
   "metadata": {
    "jp-MarkdownHeadingCollapsed": true
   },
   "source": [
    "# Question 12\n",
    "Modify the above question to allow student to sit if he/she has medical cause. Ask user if he/she has medical cause or not ( 'Y' or 'N' ) and print accordingly."
   ]
  },
  {
   "cell_type": "code",
   "execution_count": 49,
   "id": "2719ace0-3e0a-4835-b5ac-f88c9121f177",
   "metadata": {},
   "outputs": [
    {
     "name": "stdin",
     "output_type": "stream",
     "text": [
      "Enter in how many classes you have attended out of 32:  30\n"
     ]
    },
    {
     "name": "stdout",
     "output_type": "stream",
     "text": [
      "Your attendance is 93.75%  \n"
     ]
    },
    {
     "name": "stdin",
     "output_type": "stream",
     "text": [
      "Do you have any Medical cause (Y or N):  y\n"
     ]
    },
    {
     "name": "stdout",
     "output_type": "stream",
     "text": [
      "You are allowed to sit in exam\n"
     ]
    }
   ],
   "source": [
    "classes = 32\n",
    "is_present = int(input(\"Enter in how many classes you have attended out of 32: \"))\n",
    "attendance_percentage = (is_present / classes) * 100\n",
    "\n",
    "print(f\"Your attendance is {attendance_percentage}%  \")\n",
    "\n",
    "med = (input(\"Do you have any Medical cause (Y or N): \"))\n",
    "if med.upper() == (\"Y\"):  #upper is used because when a user writes in small letter it will check it , means 'Y or y'and means 'N or n'\n",
    "    print(\"You are allowed to sit in exam\")\n",
    "elif attendance_percentage >= 75 :\n",
    "    print(\"You are allowed to sit in exam\")\n",
    "else:\n",
    "    print(\"You are not allowed to sit in exam\")"
   ]
  },
  {
   "cell_type": "markdown",
   "id": "6317c965-8577-4c4d-8858-a34ca8dfd03a",
   "metadata": {
    "jp-MarkdownHeadingCollapsed": true
   },
   "source": [
    "# Question 13\n",
    "Write a program to check if a year is leap year or not.\n",
    "If a year is divisible by 4 then it is leap year but if the year is century year like 2000, 1900, 2100 then it must be divisible by 400."
   ]
  },
  {
   "cell_type": "code",
   "execution_count": 59,
   "id": "5b1dcfe7-a196-41c1-86ec-9f27e3cb2ed4",
   "metadata": {},
   "outputs": [
    {
     "name": "stdin",
     "output_type": "stream",
     "text": [
      "Enter a year:  96\n"
     ]
    },
    {
     "name": "stdout",
     "output_type": "stream",
     "text": [
      "96 is a leap year\n"
     ]
    }
   ],
   "source": [
    "year = int(input(\"Enter a year: \"))\n",
    "if year % 400 ==0 :\n",
    "    print(f\"{year} is a leap year\")\n",
    "elif year % 100 ==0:\n",
    "    print(f\"{year} is not a leap year\")\n",
    "elif year % 4 == 0:\n",
    "   print(f\"{year} is a leap year\")\n",
    "else:\n",
    "    print(f\"{year} is not a leap year\")"
   ]
  },
  {
   "cell_type": "markdown",
   "id": "8235ff58-f127-4f8b-a104-9cd54d57fef1",
   "metadata": {
    "jp-MarkdownHeadingCollapsed": true
   },
   "source": [
    "# Question 14\n",
    "Ask user to enter age, gender ( M or F ), marital status ( Y or N ) and then using following rules print their place of service.\n",
    "if employee is female, then she will work only in urban areas.\n",
    "\n",
    "if employee is a male and age is in between 20 to 40 then he may work in anywhere\n",
    "\n",
    "if employee is male and age is in between 40 t0 60 then he will work in urban areas only.\n",
    "\n",
    "And any other input of age should print \"ERROR\""
   ]
  },
  {
   "cell_type": "code",
   "execution_count": 61,
   "id": "0f06e892-b2c9-4972-aa0a-e6f466e145e1",
   "metadata": {},
   "outputs": [
    {
     "name": "stdin",
     "output_type": "stream",
     "text": [
      "Enter your age:  41\n",
      "What is your Gender (M or F):  M\n",
      "Are you married (Y or N):  N\n"
     ]
    },
    {
     "name": "stdout",
     "output_type": "stream",
     "text": [
      "You will work only in urban areas.\n"
     ]
    }
   ],
   "source": [
    "age = int(input(\"Enter your age: \"))\n",
    "gender = input(\"What is your Gender (M or F): \")\n",
    "martial_status = input(\"Are you married (Y or N): \")\n",
    "\n",
    "if gender.upper() == (\"F\"):\n",
    "    print(\"You will work only in urban areas.\")\n",
    "elif age >=20 and age <40:\n",
    "    print(\"You may work any where.\")\n",
    "elif age >=40 and age <60:\n",
    "    print(\"You will work only in urban areas.\")\n",
    "else:\n",
    "    print(\"Your age is invalid.Please Enter correct age.\")"
   ]
  },
  {
   "cell_type": "markdown",
   "id": "a5b1a672-a7fa-438f-ae1a-67ceb0c4e1ab",
   "metadata": {
    "jp-MarkdownHeadingCollapsed": true
   },
   "source": [
    "# Question 15\n",
    "Write a program to calculate the electricity bill (accept number of unit from user) according to the following criteria : Unit Price\n",
    "uptp 100 units no charge Next 200 units Rs 5 per unit After 200 units Rs 10 per unit (For example if input unit is 350 than total bill amount is Rs.3500 (For example if input unit is 97 than total bill amount is Rs.0 (For example if input unit is 150 than total bill amount is Rs.750"
   ]
  },
  {
   "cell_type": "code",
   "execution_count": 71,
   "id": "a14e3a9f-9395-4d34-9a70-29fd8aa9c324",
   "metadata": {},
   "outputs": [
    {
     "name": "stdin",
     "output_type": "stream",
     "text": [
      "Enter how many number of electricity units you have consumed:  450\n"
     ]
    },
    {
     "name": "stdout",
     "output_type": "stream",
     "text": [
      "Your bill is Rs 2500\n"
     ]
    }
   ],
   "source": [
    "units = int(input(\"Enter how many number of electricity units you have consumed: \"))\n",
    "if units <=100:\n",
    "    bill = 0\n",
    "elif units <300:\n",
    "    bill = (units -100) * 5\n",
    "else :\n",
    "    bill =(200 *5)+(units -300)*10\n",
    "print(f\"Your bill is Rs {bill}\")    \n",
    "   "
   ]
  },
  {
   "cell_type": "markdown",
   "id": "31a1d990-a13f-4918-9601-8845ae8cfa98",
   "metadata": {
    "jp-MarkdownHeadingCollapsed": true
   },
   "source": [
    "# Question 16\n",
    "Take input of age of 3 people by user and determine oldest and youngest among them."
   ]
  },
  {
   "cell_type": "code",
   "execution_count": 79,
   "id": "05b92f16-6f76-48d8-b80d-f082ceb6cacc",
   "metadata": {
    "scrolled": true
   },
   "outputs": [
    {
     "name": "stdin",
     "output_type": "stream",
     "text": [
      "Enter age of first person:  21\n",
      "Enter age of second person:  34\n",
      "Enter age of third person:  54\n"
     ]
    },
    {
     "name": "stdout",
     "output_type": "stream",
     "text": [
      "For Oldest Person\n",
      "Oldest is Person C with age 54\n",
      "For Youngest Person\n",
      "Youngest is Person A with age 21\n"
     ]
    }
   ],
   "source": [
    "a = int(input(\"Enter age of first person: \"))\n",
    "b = int(input(\"Enter age of second person: \"))\n",
    "c = int(input(\"Enter age of third person: \"))\n",
    "print(\"For Oldest Person\")\n",
    "if a > b and a > c:\n",
    "    print(\"Oldest is Person A with age\", a)\n",
    "elif b > a and b > c:\n",
    "    print(\"Oldest is Person B with age\", b)\n",
    "else:\n",
    "    print(\"Oldest is Person C with age\", c)\n",
    "print(\"For Youngest Person\")\n",
    "if a < b and a < c:\n",
    "    print(\"Youngest is Person A with age\", a)\n",
    "elif b < a and b < c:\n",
    "    print(\"Youngest is Person B with age\", b)\n",
    "else:\n",
    "    print(\"Youngest is Person C with age\", c)"
   ]
  },
  {
   "cell_type": "code",
   "execution_count": null,
   "id": "5abcbb4e-2897-4260-8a12-e81ae83664e1",
   "metadata": {},
   "outputs": [],
   "source": []
  }
 ],
 "metadata": {
  "kernelspec": {
   "display_name": "Python 3 (ipykernel)",
   "language": "python",
   "name": "python3"
  },
  "language_info": {
   "codemirror_mode": {
    "name": "ipython",
    "version": 3
   },
   "file_extension": ".py",
   "mimetype": "text/x-python",
   "name": "python",
   "nbconvert_exporter": "python",
   "pygments_lexer": "ipython3",
   "version": "3.13.5"
  }
 },
 "nbformat": 4,
 "nbformat_minor": 5
}
