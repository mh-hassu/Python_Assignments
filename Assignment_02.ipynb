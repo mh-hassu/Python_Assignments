{
 "cells": [
  {
   "cell_type": "markdown",
   "id": "ae11db61-2c33-4a34-a52a-bbe6f28a8b6f",
   "metadata": {},
   "source": [
    "# String Assignments "
   ]
  },
  {
   "cell_type": "markdown",
   "id": "8745e03e-6bdd-4c74-92c0-b326312c2d5a",
   "metadata": {
    "jp-MarkdownHeadingCollapsed": true
   },
   "source": [
    "# Question 1\n",
    "Write a program that accepts a string from user. Your program should count and display number of\n",
    "vowels in that string."
   ]
  },
  {
   "cell_type": "code",
   "execution_count": 6,
   "id": "78b34c38-2d56-47c4-a21e-fe1ecdde8f4b",
   "metadata": {},
   "outputs": [
    {
     "name": "stdin",
     "output_type": "stream",
     "text": [
      "Enter a string:  Pakistan Zindabad\n"
     ]
    },
    {
     "name": "stdout",
     "output_type": "stream",
     "text": [
      "there are  6 vowels in this text\n"
     ]
    }
   ],
   "source": [
    "text = str(input(\"Enter a string: \"))\n",
    "vowels = \"aeiouAEIOU\"\n",
    "count = 0\n",
    "for temp in text:\n",
    "    if temp in vowels:\n",
    "       count +=1\n",
    "print(f\"there are  {count} vowels in this text\")    "
   ]
  },
  {
   "cell_type": "markdown",
   "id": "41c79227-b57b-4def-88fc-c7e64a3b28ec",
   "metadata": {
    "jp-MarkdownHeadingCollapsed": true
   },
   "source": [
    "# Question 2\n",
    ". Write a program that reads a string from keyboard and display:\n",
    "* The number of uppercase letters in the string\n",
    "* The number of lowercase letters in the string\n",
    "* The number of digits in the string\n",
    "* The number of whitespace characters in the string \n"
   ]
  },
  {
   "cell_type": "code",
   "execution_count": 9,
   "id": "b71bec15-6a80-4beb-a7a8-875efa4c2804",
   "metadata": {},
   "outputs": [
    {
     "name": "stdin",
     "output_type": "stream",
     "text": [
      "Enter a a text:  PAkistan 1 2  34\n"
     ]
    },
    {
     "name": "stdout",
     "output_type": "stream",
     "text": [
      "Uppercase letters: 2\n",
      "Lowercase letters: 6\n",
      "Digits: 8\n",
      "Whitespace characters: 0\n"
     ]
    }
   ],
   "source": [
    "text = input(\"Enter a a text: \")\n",
    "upper_count = 0\n",
    "lower_count = 0\n",
    "digit_count = 0\n",
    "space_count = 0\n",
    "for temp in text:\n",
    "    if temp.isupper():\n",
    "        upper_count +=1\n",
    "    elif temp.islower():\n",
    "        lower_count +=1\n",
    "    elif temp.isdigit:\n",
    "        digit_count +=1\n",
    "    elif temp.isspace:\n",
    "         space_count +=1\n",
    "print(\"Uppercase letters:\", upper_count)\n",
    "print(\"Lowercase letters:\", lower_count)\n",
    "print(\"Digits:\", digit_count)\n",
    "print(\"Whitespace characters:\", space_count)"
   ]
  },
  {
   "cell_type": "markdown",
   "id": "57dbcbe2-0a76-43fa-823a-7f9782e5c6c3",
   "metadata": {
    "jp-MarkdownHeadingCollapsed": true
   },
   "source": [
    "# Question 3\n",
    ". Write a Python program that accepts a string from user. Your program should create and display a\n",
    "new string where the first and last characters have been exchanged. "
   ]
  },
  {
   "cell_type": "code",
   "execution_count": 5,
   "id": "5a18ac97-2e7e-444b-a054-e4de1b027716",
   "metadata": {},
   "outputs": [
    {
     "name": "stdin",
     "output_type": "stream",
     "text": [
      "Enter a text:  Hassaan\n"
     ]
    },
    {
     "name": "stdout",
     "output_type": "stream",
     "text": [
      "nassaaH\n"
     ]
    }
   ],
   "source": [
    "text = str(input(\"Enter a text: \"))\n",
    "first = text[0]\n",
    "last = text[-1]\n",
    "middle = text[1:-1]\n",
    "new_text = last + middle + first\n",
    "print(new_text)"
   ]
  },
  {
   "cell_type": "markdown",
   "id": "4d14746a-a01e-47ae-aa0c-4594b18c04fe",
   "metadata": {
    "jp-MarkdownHeadingCollapsed": true
   },
   "source": [
    "# Question 4\n",
    " Write a Python program that accepts a string from user. Your program should create a new string in\n",
    "reverse of first string and display it. "
   ]
  },
  {
   "cell_type": "code",
   "execution_count": 8,
   "id": "48f529d1-68f2-4e18-8991-2e86dea9fb93",
   "metadata": {},
   "outputs": [
    {
     "name": "stdin",
     "output_type": "stream",
     "text": [
      "Enter a text:  Time\n"
     ]
    },
    {
     "name": "stdout",
     "output_type": "stream",
     "text": [
      "emiT\n"
     ]
    }
   ],
   "source": [
    "text = str(input(\"Enter a text: \"))\n",
    "new_text = text[::-1]\n",
    "print(new_text)"
   ]
  },
  {
   "cell_type": "markdown",
   "id": "dd8efffd-ed77-41f2-a5bc-90f2093eedc0",
   "metadata": {
    "jp-MarkdownHeadingCollapsed": true
   },
   "source": [
    "# Question 5\n",
    ". Write a Python program that accepts a string from user. Your program should create a new string by\n",
    "shifting one position to left.\n",
    "\n"
   ]
  },
  {
   "cell_type": "code",
   "execution_count": 21,
   "id": "20f3f021-5999-497f-bc7b-38b873d43131",
   "metadata": {},
   "outputs": [
    {
     "name": "stdin",
     "output_type": "stream",
     "text": [
      "Enter a text:  Hydrogen\n"
     ]
    },
    {
     "name": "stdout",
     "output_type": "stream",
     "text": [
      "Orignal string Hydrogen\n",
      "Change string ydrogenH\n"
     ]
    }
   ],
   "source": [
    "\n",
    "text = str(input(\"Enter a text: \"))\n",
    "new_text = text[1:] + text[0]  # text[1:0] means ignore the first letter   # text[0] means use the first word\n",
    "print(\"Orignal string\",text)\n",
    "print(\"Change string\",new_text)"
   ]
  },
  {
   "cell_type": "markdown",
   "id": "8852d367-18f2-4615-9a08-3b8237ea4082",
   "metadata": {
    "jp-MarkdownHeadingCollapsed": true
   },
   "source": [
    "# Question 6\n",
    "Write a program that asks the user to input his name and print its initials. Assuming that the user\n",
    "always types first name, middle name and last name and does not include any unnecessary spaces. "
   ]
  },
  {
   "cell_type": "code",
   "execution_count": 24,
   "id": "9e741dde-da9d-4f40-a649-68dfa8093df0",
   "metadata": {},
   "outputs": [
    {
     "name": "stdin",
     "output_type": "stream",
     "text": [
      "Enter Your first_name:  muhammad \n",
      "Enter Your middle_name:  hassaan \n",
      "Enter Your last_name:  raza\n"
     ]
    },
    {
     "name": "stdout",
     "output_type": "stream",
     "text": [
      "muhammad hassaan raza\n"
     ]
    }
   ],
   "source": [
    "first_name = input('Enter Your first_name: ')\n",
    "middle_name = input('Enter Your middle_name: ')    #method 1\n",
    "last_name =  input ('Enter Your last_name: ')   \n",
    "full_name = first_name + middle_name + last_name\n",
    "print(full_name)"
   ]
  },
  {
   "cell_type": "code",
   "execution_count": 25,
   "id": "f44aef35-871a-4e80-b16a-b1cdf863ce7c",
   "metadata": {},
   "outputs": [
    {
     "name": "stdout",
     "output_type": "stream",
     "text": [
      "muhammad hassaan raza\n"
     ]
    }
   ],
   "source": [
    "print(first_name + middle_name + last_name)   #this is method 2"
   ]
  },
  {
   "cell_type": "code",
   "execution_count": 26,
   "id": "f83e6bb7-7976-4e7e-93ab-8b75f9865737",
   "metadata": {},
   "outputs": [
    {
     "data": {
      "text/plain": [
       "'muhammad hassaan raza is a student of cloud data engineering course '"
      ]
     },
     "execution_count": 26,
     "metadata": {},
     "output_type": "execute_result"
    }
   ],
   "source": [
    "f\"{first_name}{middle_name}{last_name} is a student of cloud data engineering course \"  #this is method 3"
   ]
  },
  {
   "cell_type": "code",
   "execution_count": 27,
   "id": "b3c1cc87-2f22-4c9d-a3fd-8b08174bef34",
   "metadata": {},
   "outputs": [
    {
     "data": {
      "text/plain": [
       "'muhammad hassaan raza is a student od CDE Batch-03'"
      ]
     },
     "execution_count": 27,
     "metadata": {},
     "output_type": "execute_result"
    }
   ],
   "source": [
    "\"{0}{1}{2} is a student od CDE Batch-03\".format(first_name,middle_name,last_name)   #this is method 4"
   ]
  },
  {
   "cell_type": "markdown",
   "id": "ecc89cc0-8570-4dda-b27b-9acb115cecbc",
   "metadata": {
    "jp-MarkdownHeadingCollapsed": true
   },
   "source": [
    "# Question 7 \n",
    "A palindrome is a string that reads the same backward as forward. For example, the words dad,\n",
    "madam and radar are all palindromes. Write a programs that determines whether the string is a\n",
    "palindrome "
   ]
  },
  {
   "cell_type": "code",
   "execution_count": 40,
   "id": "e4d29287-00db-4ed8-a7ae-37d020c280a9",
   "metadata": {},
   "outputs": [
    {
     "name": "stdin",
     "output_type": "stream",
     "text": [
      "Enter a text:  madam\n"
     ]
    },
    {
     "name": "stdout",
     "output_type": "stream",
     "text": [
      "The text is a palindrome.\n"
     ]
    }
   ],
   "source": [
    "text = input(\"Enter a text: \")\n",
    "is_palindrome = True\n",
    "\n",
    "for temp in range(len(text) //2):  #iska mtlb hum half string tak loop chalaye ge // or remainder ignore hoga agr 5 honge 5 / 2 = 2\n",
    "    \n",
    "    if text[temp] != text[len(text) - temp - 1]:  # [] use karna hai, () nahi kiu ke text string ha or temp aik int agr funstion hota to hum () use krte\n",
    "        is_palindrome = False    # Agar front aur back character same nahi to palindrome nhi # agr aik bhi character alag hoa udr he break lag jaye ga\n",
    "        break    \n",
    "        \n",
    "if is_palindrome:\n",
    "    print(\"The text is a palindrome.\")\n",
    "else:\n",
    "    print(\"The text is not a palindrome.\")        "
   ]
  },
  {
   "cell_type": "markdown",
   "id": "dafd22d4-828e-4009-a3fb-ab39bb290089",
   "metadata": {
    "jp-MarkdownHeadingCollapsed": true
   },
   "source": [
    "# Question 8 \n",
    "Write a program that display following output:\n",
    "SHIFT\n",
    "HIFTS\n",
    "IFTSH\n",
    "FTSHI\n",
    "TSHIF\n",
    "SHIFT"
   ]
  },
  {
   "cell_type": "code",
   "execution_count": 45,
   "id": "6825581d-1101-418c-a8ef-11a86061347c",
   "metadata": {},
   "outputs": [
    {
     "name": "stdin",
     "output_type": "stream",
     "text": [
      "Enter a text:  SHIFT\n"
     ]
    },
    {
     "name": "stdout",
     "output_type": "stream",
     "text": [
      "SHIFT\n",
      "HIFTS\n",
      "IFTSH\n",
      "FTSHI\n",
      "TSHIF\n",
      "SHIFT\n"
     ]
    }
   ],
   "source": [
    "text = str(input(\"Enter a text: \"))\n",
    "for temp in range(len(text) +1):\n",
    "    new_text = text[temp:] + text[:temp]\n",
    "    print(new_text)    "
   ]
  },
  {
   "cell_type": "markdown",
   "id": "e5da212d-62c4-4df8-9b92-da0f8cf29fe0",
   "metadata": {
    "jp-MarkdownHeadingCollapsed": true
   },
   "source": [
    "# Question 9\n",
    " Write a program in python that accepts a string to setup a passwords. Your entered password must\n",
    "meet the following requirements:\n",
    "The password must be at least eight characters long.\n",
    "It must contain at least one uppercase letter.\n",
    "It must contain at least one lowercase letter.\n",
    "It must contain at least one numeric digit.\n",
    "Your program should should perform this validation."
   ]
  },
  {
   "cell_type": "code",
   "execution_count": 51,
   "id": "a76f6bca-b8a5-4812-9275-917eaae53a32",
   "metadata": {},
   "outputs": [
    {
     "name": "stdin",
     "output_type": "stream",
     "text": [
      "Enter a password:  Hello World..12343\n"
     ]
    },
    {
     "name": "stdout",
     "output_type": "stream",
     "text": [
      "Password is valid!\n"
     ]
    }
   ],
   "source": [
    "password = input(\"Enter a password: \")\n",
    "\n",
    "if len(password) < 8:  # len of password greater than 8\n",
    "    print(\"Your Password must be at least 8 characters.\")\n",
    "else:\n",
    "    if not any(temp.isupper() for temp in password): # password should contain an upper letter if not than print the statement\n",
    "        print(\"Password must contain an uppercase letter.\")\n",
    "    elif not any(temp.islower() for temp in password):  # password should contain an lower letter if not than print the statement elif \n",
    "        print(\"Password must contain a lowercase letter.\")\n",
    "    elif not any(temp.isdigit() for temp in password):   # password should contain an digit if not than print the statement elif\n",
    "        print(\"Password must contain a digit.\")\n",
    "    else:                                            # if all are conditions are present than the password is valid\n",
    "        print(\"Password is valid!\")\n"
   ]
  },
  {
   "cell_type": "code",
   "execution_count": 62,
   "id": "37432840-bd6e-4765-91c8-d4c04d28efee",
   "metadata": {},
   "outputs": [
    {
     "name": "stdin",
     "output_type": "stream",
     "text": [
      "Enter a password:  Hello World 123\n"
     ]
    },
    {
     "name": "stdout",
     "output_type": "stream",
     "text": [
      " Password is valid!\n"
     ]
    }
   ],
   "source": [
    "# 2nd mehtod without any()\n",
    "password = input(\"Enter a password: \")\n",
    "\n",
    "if len(password) < 8:  \n",
    "    print(\"Your Password must be at least 8 characters.\")\n",
    "else:\n",
    "    has_upper = False\n",
    "    has_lower = False\n",
    "    has_digit = False\n",
    "\n",
    "    for temp in password:\n",
    "        if temp >= 'A' and temp <= 'Z':  # password should contain an upper letter if not than print the statement\n",
    "            has_upper = True\n",
    "        elif temp >= 'a' and temp <= 'z':  # password should contain an lower letter if not than print the statement elif\n",
    "            has_lower = True\n",
    "        elif temp >= '0' and temp <= '9':   # password should contain an digit if not than print the statement elif\n",
    "            has_digit = True\n",
    "\n",
    "    if has_upper and has_lower and has_digit:   # if all are conditions are present than the password is valid\n",
    "        print(\" Password is valid!\")\n",
    "    else:\n",
    "        print(\" Password must contain uppercase, lowercase, and digit.\")\n"
   ]
  }
 ],
 "metadata": {
  "kernelspec": {
   "display_name": "Python 3 (ipykernel)",
   "language": "python",
   "name": "python3"
  },
  "language_info": {
   "codemirror_mode": {
    "name": "ipython",
    "version": 3
   },
   "file_extension": ".py",
   "mimetype": "text/x-python",
   "name": "python",
   "nbconvert_exporter": "python",
   "pygments_lexer": "ipython3",
   "version": "3.13.5"
  }
 },
 "nbformat": 4,
 "nbformat_minor": 5
}
