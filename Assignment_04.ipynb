{
 "cells": [
  {
   "cell_type": "markdown",
   "id": "1f80f830-fb5d-49f6-8d3e-1e0e44aab9f2",
   "metadata": {},
   "source": [
    "# Loop Assignments"
   ]
  },
  {
   "cell_type": "markdown",
   "id": "c481ceeb-e18c-4953-92a4-73893d6868d9",
   "metadata": {},
   "source": [
    "# Question 1\n",
    "Write a Python program to print the numbers from 1 to 10 using a for loop"
   ]
  },
  {
   "cell_type": "code",
   "execution_count": 6,
   "id": "b6361646-209f-4d5e-b7d2-6fab61a36a00",
   "metadata": {},
   "outputs": [
    {
     "name": "stdout",
     "output_type": "stream",
     "text": [
      "0\n",
      "1\n",
      "2\n",
      "3\n",
      "4\n",
      "5\n",
      "6\n",
      "7\n",
      "8\n",
      "9\n",
      "10\n"
     ]
    }
   ],
   "source": [
    "x = 0\n",
    "for temp in range(1,12):\n",
    "    print(x)\n",
    "    x +=1"
   ]
  },
  {
   "cell_type": "markdown",
   "id": "a6c9ca7c-2573-4634-aa62-aacf2f5c4b33",
   "metadata": {},
   "source": [
    "# Question 2\n",
    "Write a Python program to print the numbers from 20 to 1 using a while loop.\n"
   ]
  },
  {
   "cell_type": "code",
   "execution_count": 27,
   "id": "9e06201c-7f13-40ae-b9dc-36c894261503",
   "metadata": {},
   "outputs": [
    {
     "name": "stdout",
     "output_type": "stream",
     "text": [
      "20\n",
      "19\n",
      "18\n",
      "17\n",
      "16\n",
      "15\n",
      "14\n",
      "13\n",
      "12\n",
      "11\n",
      "10\n",
      "9\n",
      "8\n",
      "7\n",
      "6\n",
      "5\n",
      "4\n",
      "3\n",
      "2\n",
      "1\n"
     ]
    }
   ],
   "source": [
    "num = 20\n",
    "\n",
    "while num >= 1:\n",
    "    print(num)\n",
    "    num -= 1\n"
   ]
  },
  {
   "cell_type": "markdown",
   "id": "3ee3cb9f-6338-4bb7-9c22-42fee37d78cd",
   "metadata": {},
   "source": [
    "# Question 3 \n",
    "Write a program to print even numbers from 1 to 10."
   ]
  },
  {
   "cell_type": "code",
   "execution_count": 10,
   "id": "79f66a59-c445-4dfd-858a-c9afaf8fc1ff",
   "metadata": {},
   "outputs": [
    {
     "name": "stdout",
     "output_type": "stream",
     "text": [
      "2\n",
      "4\n",
      "6\n",
      "8\n",
      "10\n"
     ]
    }
   ],
   "source": [
    "num = 1\n",
    "\n",
    "while num <= 10:\n",
    "    if num % 2 == 0:\n",
    "        print(num)\n",
    "    num += 1\n"
   ]
  },
  {
   "cell_type": "markdown",
   "id": "62a74cf2-af04-4f2a-9c13-1acecc3e7d6c",
   "metadata": {},
   "source": [
    "# Question 4\n",
    " Write a program that prompts the user to enter a number n and prints all the\n",
    "numbers from 1 to n. \n"
   ]
  },
  {
   "cell_type": "code",
   "execution_count": 11,
   "id": "533ca6fc-f66d-4ce7-aee2-0d329b7c670d",
   "metadata": {},
   "outputs": [
    {
     "name": "stdin",
     "output_type": "stream",
     "text": [
      "Enter a number:  20\n"
     ]
    },
    {
     "name": "stdout",
     "output_type": "stream",
     "text": [
      "1\n",
      "2\n",
      "3\n",
      "4\n",
      "5\n",
      "6\n",
      "7\n",
      "8\n",
      "9\n",
      "10\n",
      "11\n",
      "12\n",
      "13\n",
      "14\n",
      "15\n",
      "16\n",
      "17\n",
      "18\n",
      "19\n",
      "20\n"
     ]
    }
   ],
   "source": [
    "n = int(input(\"Enter a number: \"))\n",
    "\n",
    "num = 1\n",
    "while num <= n:\n",
    "    print(num)\n",
    "    num += 1"
   ]
  },
  {
   "cell_type": "markdown",
   "id": "8113dcd8-a400-4b07-92e2-d094aebc983c",
   "metadata": {},
   "source": [
    "# Question 5\n",
    "Write a program that prompts the user to enter a number n, and then prints all the\n",
    "odd numbers between 1 and n"
   ]
  },
  {
   "cell_type": "code",
   "execution_count": 12,
   "id": "d4688b80-b15c-45b0-b66e-0b94eb0b660a",
   "metadata": {},
   "outputs": [
    {
     "name": "stdin",
     "output_type": "stream",
     "text": [
      "Enter a number:  20\n"
     ]
    },
    {
     "name": "stdout",
     "output_type": "stream",
     "text": [
      "1\n",
      "3\n",
      "5\n",
      "7\n",
      "9\n",
      "11\n",
      "13\n",
      "15\n",
      "17\n",
      "19\n"
     ]
    }
   ],
   "source": [
    "n = int(input(\"Enter a number: \"))\n",
    "\n",
    "num = 1\n",
    "while num <= n:\n",
    "    if num % 2 != 0:   # check if number is odd\n",
    "        print(num)\n",
    "    num += 1"
   ]
  },
  {
   "cell_type": "markdown",
   "id": "88805e6b-5281-44dc-96fe-6101ac390ac8",
   "metadata": {},
   "source": [
    "# Question 6\n",
    "Write a program that prints 'Happy Birthday!' five times on screen"
   ]
  },
  {
   "cell_type": "code",
   "execution_count": 4,
   "id": "8cd541ce-f04b-4436-9c1e-4eb79fa40612",
   "metadata": {},
   "outputs": [
    {
     "name": "stdin",
     "output_type": "stream",
     "text": [
      "Enter any word you want to print 5 times:  Happy Birthday\n"
     ]
    },
    {
     "name": "stdout",
     "output_type": "stream",
     "text": [
      "Happy Birthday\n",
      "Happy Birthday\n",
      "Happy Birthday\n",
      "Happy Birthday\n",
      "Happy Birthday\n"
     ]
    }
   ],
   "source": [
    "a = input(\"Enter any word you want to print 5 times: \")\n",
    "for temp in range(5):\n",
    "    print(a)"
   ]
  },
  {
   "cell_type": "markdown",
   "id": "bc05bd15-a994-466d-8c27-f2d907dbf415",
   "metadata": {},
   "source": [
    "# Question 7\n",
    "Write a program that takes a number n as input from the user and generates the first\n",
    "n terms of the series formed by squaring the natural numbers.\n",
    "Sample output\n",
    "Enter a number: 6\n",
    "The first 6 terms of the series are:\n",
    "1 4 9 16 25 36 \n"
   ]
  },
  {
   "cell_type": "code",
   "execution_count": 14,
   "id": "1960e855-3700-4604-aa56-2257c578d1f1",
   "metadata": {},
   "outputs": [
    {
     "name": "stdin",
     "output_type": "stream",
     "text": [
      "Enter a number:  5\n"
     ]
    },
    {
     "name": "stdout",
     "output_type": "stream",
     "text": [
      "the first 5 terms of the series are: \n",
      "1\n",
      "4\n",
      "9\n",
      "16\n",
      "25\n"
     ]
    }
   ],
   "source": [
    "times = int(input(\"Enter a number: \"))\n",
    "print(f\"the first {times} terms of the series are: \")\n",
    "for temp in range(1,times+1,1):\n",
    "     print(temp**2)"
   ]
  },
  {
   "cell_type": "markdown",
   "id": "1c107f7b-6937-4ac8-91b4-65850e07b69b",
   "metadata": {},
   "source": [
    "# Question 8 \n",
    "Write a program that prompts the user to input a number and prints its multiplication\n",
    "table"
   ]
  },
  {
   "cell_type": "code",
   "execution_count": 15,
   "id": "44512852-5c5b-4e48-add0-7624e45ba718",
   "metadata": {},
   "outputs": [
    {
     "name": "stdin",
     "output_type": "stream",
     "text": [
      "Enter the number you have to make table : 7\n",
      "Enter how many times you want the table to print :  9\n"
     ]
    },
    {
     "name": "stdout",
     "output_type": "stream",
     "text": [
      "7 x 1 = 7 \n",
      "7 x 2 = 14 \n",
      "7 x 3 = 21 \n",
      "7 x 4 = 28 \n",
      "7 x 5 = 35 \n",
      "7 x 6 = 42 \n",
      "7 x 7 = 49 \n",
      "7 x 8 = 56 \n",
      "7 x 9 = 63 \n"
     ]
    }
   ],
   "source": [
    "table = int (input(\"Enter the number you have to make table :\"))\n",
    "times = int(input(\"Enter how many times you want the table to print : \"))\n",
    "\n",
    "for temp in range(times):\n",
    "       print(f\"{table} x {temp+1} = {table * (temp +1)} \")"
   ]
  },
  {
   "cell_type": "markdown",
   "id": "7d79a3bb-d822-4280-81ae-bdab322ecbc0",
   "metadata": {},
   "source": [
    "# Question 9\n",
    "Write a Python program to print the first 8 terms of an arithmetic progression starting\n",
    "with 3 and having a common difference of 4.\n",
    "The program should output the following sequence:\n",
    "3 7 11 15 19 23 27 31 \n"
   ]
  },
  {
   "cell_type": "code",
   "execution_count": 6,
   "id": "00a884d1-c444-4487-802f-b4e545dfc145",
   "metadata": {},
   "outputs": [
    {
     "name": "stdin",
     "output_type": "stream",
     "text": [
      "Enter the number:  31\n"
     ]
    },
    {
     "name": "stdout",
     "output_type": "stream",
     "text": [
      "3\n",
      "7\n",
      "11\n",
      "15\n",
      "19\n",
      "23\n",
      "27\n",
      "31\n"
     ]
    }
   ],
   "source": [
    "c = int(input(\"Enter the number: \"))\n",
    "#times =input(\"how many times: \")\n",
    "#print(f\"Odd numbers between 1 and {c} are:\")\n",
    "for temp in range(3,c+1,4):\n",
    "    print(temp)"
   ]
  },
  {
   "cell_type": "markdown",
   "id": "622f5ce1-b1b8-496a-bf4f-19287e822743",
   "metadata": {},
   "source": [
    "# Question 10 \n",
    "Write a Python program to print the first 6 terms of a geometric sequence starting\n",
    "with 2 and having a common ratio of 3.\n",
    "The program should output the following sequence:\n",
    "2 6 18 54 162 486"
   ]
  },
  {
   "cell_type": "code",
   "execution_count": 16,
   "id": "2590df10-a2c2-470d-b378-99ec1eebfffb",
   "metadata": {},
   "outputs": [
    {
     "name": "stdout",
     "output_type": "stream",
     "text": [
      "2 6 18 54 162 486 "
     ]
    }
   ],
   "source": [
    "term = 2      # first term\n",
    "ratio = 3     # common ratio\n",
    "count = 1\n",
    "\n",
    "while count <= 6:   # first 6 terms\n",
    "    print(term, end=\" \")\n",
    "    term *= ratio   # multiply by common ratio\n",
    "    count += 1\n"
   ]
  },
  {
   "cell_type": "markdown",
   "id": "1071af20-8bf3-4153-915c-d6e99740a12f",
   "metadata": {},
   "source": [
    "# Question 11\n",
    "Write a program that asks the user for a positive integer value. The program should\n",
    "calculate the sum of all the integers from 1 up to the number entered. For example, if\n",
    "the user enters 20, the loop will find the sum of 1, 2, 3, 4, ... 20"
   ]
  },
  {
   "cell_type": "code",
   "execution_count": 18,
   "id": "ee16306e-e8f4-4a13-abc2-7092598f4541",
   "metadata": {},
   "outputs": [
    {
     "name": "stdin",
     "output_type": "stream",
     "text": [
      "Enter a positive integer:  10\n"
     ]
    },
    {
     "name": "stdout",
     "output_type": "stream",
     "text": [
      "The sum of numbers from 1 to 10 is 55\n"
     ]
    }
   ],
   "source": [
    "n = int(input(\"Enter a positive integer: \"))\n",
    "\n",
    "total = 0\n",
    "num = 1\n",
    "\n",
    "while num <= n:\n",
    "    total += num   # add the current number to total\n",
    "    num += 1\n",
    "\n",
    "print(f\"The sum of numbers from 1 to {n} is {total}\")\n"
   ]
  },
  {
   "cell_type": "markdown",
   "id": "274719a9-12a1-4111-8d9e-b9848fdd4fc8",
   "metadata": {},
   "source": [
    "# Question 12\n",
    "write a program that takes a positive integer N as input and calculates the sum of\n",
    "the reciprocals of all numbers from 1 up to N. The program should display the final sum.\n",
    "Output of the program should be like:\n",
    "Enter a positive integer: 5\n",
    "The sum of reciprocals from 1 to 5 is: 2.28 "
   ]
  },
  {
   "cell_type": "code",
   "execution_count": 23,
   "id": "09a45348-425d-41da-928b-e13167308369",
   "metadata": {},
   "outputs": [
    {
     "name": "stdin",
     "output_type": "stream",
     "text": [
      "Enter a positive integer:  5\n"
     ]
    },
    {
     "name": "stdout",
     "output_type": "stream",
     "text": [
      "The sum of reciprocals from 1 to 5 is: 2.28\n"
     ]
    }
   ],
   "source": [
    "n = int(input(\"Enter a positive integer: \"))\n",
    "\n",
    "total = 0.0\n",
    "num = 1\n",
    "\n",
    "while num <= n:\n",
    "    total += 1 / num\n",
    "    num += 1\n",
    "\n",
    "print(f\"The sum of reciprocals from 1 to {n} is: {total:.2f}\")\n"
   ]
  },
  {
   "cell_type": "markdown",
   "id": "6dd524f3-91e3-4972-b7a9-4d8dfb3ae5af",
   "metadata": {},
   "source": [
    "# Question 13 \n",
    "Write a program that prompts the user to enter a number and repeats this process 5\n",
    "times. The program should accumulate the numbers entered and then display the final\n",
    "running total.\n",
    "Sample Output:\n",
    "Enter a number: 10\n",
    "Enter a number: 15\n",
    "Enter a number: 35\n",
    "Enter a number: 40\n",
    "Enter a number: 50\n",
    "The final running total is: 150 "
   ]
  },
  {
   "cell_type": "code",
   "execution_count": 21,
   "id": "718a7e16-c013-4994-a8de-86593a595886",
   "metadata": {},
   "outputs": [
    {
     "name": "stdin",
     "output_type": "stream",
     "text": [
      "Enter a number:  10\n",
      "Enter a number:  107\n",
      "Enter a number:  43\n",
      "Enter a number:  77\n",
      "Enter a number:  22\n"
     ]
    },
    {
     "name": "stdout",
     "output_type": "stream",
     "text": [
      "The final running total is: 259\n"
     ]
    }
   ],
   "source": [
    "total = 0\n",
    "\n",
    "for i in range(5):   # repeat 5 times\n",
    "    num = int(input(\"Enter a number: \"))\n",
    "    total += num     # add each number to total\n",
    "\n",
    "print(f\"The final running total is: {total}\")\n"
   ]
  },
  {
   "cell_type": "markdown",
   "id": "3ec6bdb8-f407-4238-a928-8cd225a12b94",
   "metadata": {},
   "source": [
    "# Question 14\n",
    " Write a program that prompts the user to enter a positive integer and calculates its\n",
    "factorial. The factorial of a positive integer 'n' is denoted as 'n!' and is calculated by\n",
    "multiplying all the integers from 1 to 'n' together. For example, the factorial of 5\n",
    "(denoted as 5!) is calculated as 1 x 2 x 3 x 4 x 5.\n",
    "The program should display the factorial value if the input is a positive number, or\n",
    "display a message stating that the factorial does not exist for negative numbers.\n",
    "Additionally, for an input of zero, the program should output that the factorial of 0 is 1."
   ]
  },
  {
   "cell_type": "code",
   "execution_count": 20,
   "id": "8c79162c-dd5a-4ada-b688-372d8bf3d1d8",
   "metadata": {},
   "outputs": [
    {
     "name": "stdin",
     "output_type": "stream",
     "text": [
      "Enter a positive integer:  5\n"
     ]
    },
    {
     "name": "stdout",
     "output_type": "stream",
     "text": [
      "The factorial of 5 is 120.\n"
     ]
    }
   ],
   "source": [
    "n = int(input(\"Enter a positive integer: \"))\n",
    "\n",
    "if n < 0:\n",
    "    print(\"Factorial does not exist for negative numbers.\")\n",
    "elif n == 0:\n",
    "    print(\"The factorial of 0 is 1.\")\n",
    "else:\n",
    "    factorial = 1\n",
    "    num = 1\n",
    "    while num <= n:\n",
    "        factorial *= num\n",
    "        num += 1\n",
    "    print(f\"The factorial of {n} is {factorial}.\")\n"
   ]
  },
  {
   "cell_type": "markdown",
   "id": "4a5627a7-dd38-419e-ac5d-d33b0525334a",
   "metadata": {},
   "source": [
    "# Question 15\n",
    " Write a Python program that prompts the user to enter a base number and an\n",
    "exponent, and then calculates the power of the base to the exponent. The program\n",
    "should not use the exponentiation operator (**) or the math.pow() function. The\n",
    "program should handle both positive and negative exponents."
   ]
  },
  {
   "cell_type": "code",
   "execution_count": 22,
   "id": "062dbbe0-a0e5-4bfe-a935-fd59961d885f",
   "metadata": {},
   "outputs": [
    {
     "name": "stdin",
     "output_type": "stream",
     "text": [
      "Enter the base number:  2\n",
      "Enter the exponent:  3\n"
     ]
    },
    {
     "name": "stdout",
     "output_type": "stream",
     "text": [
      "2.0 raised to the power 3 is: 8.0\n"
     ]
    }
   ],
   "source": [
    "base = float(input(\"Enter the base number: \"))\n",
    "exponent = int(input(\"Enter the exponent: \"))\n",
    "\n",
    "result = 1\n",
    "\n",
    "if exponent > 0:\n",
    "    # multiply base exponent times\n",
    "    for i in range(exponent):\n",
    "        result *= base\n",
    "elif exponent < 0:\n",
    "    # multiply for absolute value of exponent, then take reciprocal\n",
    "    for i in range(-exponent):\n",
    "        result *= base\n",
    "    result = 1 / result\n",
    "else:\n",
    "    result = 1   # any number to the power 0 is 1\n",
    "\n",
    "print(f\"{base} raised to the power {exponent} is: {result}\")\n"
   ]
  },
  {
   "cell_type": "code",
   "execution_count": null,
   "id": "fb6c7ac7-a0d0-445d-b352-f4e2aaefefcb",
   "metadata": {},
   "outputs": [],
   "source": []
  }
 ],
 "metadata": {
  "kernelspec": {
   "display_name": "Python 3 (ipykernel)",
   "language": "python",
   "name": "python3"
  },
  "language_info": {
   "codemirror_mode": {
    "name": "ipython",
    "version": 3
   },
   "file_extension": ".py",
   "mimetype": "text/x-python",
   "name": "python",
   "nbconvert_exporter": "python",
   "pygments_lexer": "ipython3",
   "version": "3.13.5"
  }
 },
 "nbformat": 4,
 "nbformat_minor": 5
}
